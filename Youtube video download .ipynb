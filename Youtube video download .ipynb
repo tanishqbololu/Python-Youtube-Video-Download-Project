{
 "cells": [
  {
   "cell_type": "markdown",
   "id": "49b8ae58-35e4-4271-9208-97c0eb014319",
   "metadata": {},
   "source": [
    "# Python Project: Youtube Video Download\n",
    "> We need 2 libraries: 'pytube3' and 'yt-dlp'\n"
   ]
  },
  {
   "cell_type": "markdown",
   "id": "8d0cd97d-d36e-4e71-b048-8e4a2d77b671",
   "metadata": {},
   "source": [
    "###### "
   ]
  },
  {
   "cell_type": "markdown",
   "id": "9a0d24d1-ce08-47eb-a4d8-ce762abdba40",
   "metadata": {},
   "source": [
    "### pytube :  This library allows you to interact with YouTube videos."
   ]
  },
  {
   "cell_type": "code",
   "execution_count": 3,
   "id": "0e1113b8-f2dc-40a3-b640-d04477d8dcf2",
   "metadata": {},
   "outputs": [
    {
     "name": "stdout",
     "output_type": "stream",
     "text": [
      "Requirement already satisfied: pytube3 in c:\\users\\tanishq\\anaconda3\\lib\\site-packages (9.6.4)\n",
      "Requirement already satisfied: typing-extensions in c:\\users\\tanishq\\anaconda3\\lib\\site-packages (from pytube3) (4.9.0)\n",
      "Note: you may need to restart the kernel to use updated packages.\n"
     ]
    }
   ],
   "source": [
    "pip install pytube3    # Installing pytube3 python-library"
   ]
  },
  {
   "cell_type": "code",
   "execution_count": 5,
   "id": "5f0df372-10c0-4196-91fa-c662ec590cbb",
   "metadata": {},
   "outputs": [
    {
     "name": "stdout",
     "output_type": "stream",
     "text": [
      "Requirement already satisfied: pytube in c:\\users\\tanishq\\anaconda3\\lib\\site-packages (15.0.0)\n",
      "Note: you may need to restart the kernel to use updated packages.\n"
     ]
    }
   ],
   "source": [
    "pip install --upgrade pytube   # Updating latest version of pytube"
   ]
  },
  {
   "cell_type": "markdown",
   "id": "eb453ef1-91cd-4b34-bd4a-f995ec60b609",
   "metadata": {},
   "source": [
    "###### "
   ]
  },
  {
   "cell_type": "markdown",
   "id": "686d2553-3f25-4c5c-a22b-1c29c264e108",
   "metadata": {},
   "source": [
    "### yt-dlp: Is a popular YouTube downloader with more advanced features."
   ]
  },
  {
   "cell_type": "code",
   "execution_count": 15,
   "id": "bc91b715-db02-40e6-b4be-42aa17b85057",
   "metadata": {},
   "outputs": [
    {
     "name": "stdout",
     "output_type": "stream",
     "text": [
      "Requirement already satisfied: yt-dlp in c:\\users\\tanishq\\anaconda3\\lib\\site-packages (2024.8.6)\n",
      "Requirement already satisfied: brotli in c:\\users\\tanishq\\anaconda3\\lib\\site-packages (from yt-dlp) (1.0.9)\n",
      "Requirement already satisfied: certifi in c:\\users\\tanishq\\anaconda3\\lib\\site-packages (from yt-dlp) (2024.7.4)\n",
      "Requirement already satisfied: mutagen in c:\\users\\tanishq\\anaconda3\\lib\\site-packages (from yt-dlp) (1.47.0)\n",
      "Requirement already satisfied: pycryptodomex in c:\\users\\tanishq\\anaconda3\\lib\\site-packages (from yt-dlp) (3.20.0)\n",
      "Requirement already satisfied: requests<3,>=2.32.2 in c:\\users\\tanishq\\anaconda3\\lib\\site-packages (from yt-dlp) (2.32.3)\n",
      "Requirement already satisfied: urllib3<3,>=1.26.17 in c:\\users\\tanishq\\anaconda3\\lib\\site-packages (from yt-dlp) (2.0.7)\n",
      "Requirement already satisfied: websockets>=12.0 in c:\\users\\tanishq\\anaconda3\\lib\\site-packages (from yt-dlp) (13.0.1)\n",
      "Requirement already satisfied: charset-normalizer<4,>=2 in c:\\users\\tanishq\\anaconda3\\lib\\site-packages (from requests<3,>=2.32.2->yt-dlp) (2.0.4)\n",
      "Requirement already satisfied: idna<4,>=2.5 in c:\\users\\tanishq\\anaconda3\\lib\\site-packages (from requests<3,>=2.32.2->yt-dlp) (3.4)\n",
      "Note: you may need to restart the kernel to use updated packages.\n"
     ]
    }
   ],
   "source": [
    "pip install yt-dlp     # Installing yt-dlp python-library"
   ]
  },
  {
   "cell_type": "markdown",
   "id": "dc182ec6-280a-4942-86e8-5036183c989b",
   "metadata": {},
   "source": [
    "###### "
   ]
  },
  {
   "cell_type": "markdown",
   "id": "a61600d0-68e4-4dd7-a5f7-a8437b14bde6",
   "metadata": {},
   "source": [
    "### YouTube class from the pytube library, which is used to interact with YouTube videos."
   ]
  },
  {
   "cell_type": "code",
   "execution_count": 17,
   "id": "1d6775d7-0728-4a60-8565-4f722d3395cc",
   "metadata": {},
   "outputs": [],
   "source": [
    "from pytube import YouTube  #pytube is Package; YouTUbe is Module"
   ]
  },
  {
   "cell_type": "code",
   "execution_count": 26,
   "id": "be944ec0-5d05-4b39-a265-a902f2b418a8",
   "metadata": {},
   "outputs": [
    {
     "name": "stdin",
     "output_type": "stream",
     "text": [
      "Enter Youtube video's link:  https://youtu.be/xuP4g7IDgDM?si=R8dYSiN-y5uNw0ka\n"
     ]
    }
   ],
   "source": [
    "link = input(\"Enter Youtube video's link: \")\n",
    "yt = YouTube(link)"
   ]
  },
  {
   "cell_type": "code",
   "execution_count": 31,
   "id": "a8800dca-d867-4241-8129-7eeb19edc27a",
   "metadata": {},
   "outputs": [
    {
     "name": "stdout",
     "output_type": "stream",
     "text": [
      "Title:  Stunning Sunset Seen From The Sea | Time lapse | 10 Seconds Video | Nature Blogs\n",
      "Views:  64728\n",
      "Duration:  9\n",
      "Description:  None\n",
      "Ratings:  None\n"
     ]
    }
   ],
   "source": [
    "print('Title: ', yt.title)\n",
    "print('Views: ', yt.views)\n",
    "print('Duration: ',yt.length)\n",
    "print('Description: ', yt.description)\n",
    "print('Ratings: ', yt.rating)"
   ]
  },
  {
   "cell_type": "markdown",
   "id": "bfe90682-8dd4-4da5-8967-e8465ae8c93d",
   "metadata": {},
   "source": [
    "###### "
   ]
  },
  {
   "cell_type": "markdown",
   "id": "5cf48353-dcfb-42d5-924f-4b2a788105d1",
   "metadata": {},
   "source": [
    "### Use the YoutubeDL class from yt-dlp to download the video using the specified options"
   ]
  },
  {
   "cell_type": "markdown",
   "id": "a90cb1f2-81b2-47e2-ae8c-29c83cc72415",
   "metadata": {},
   "source": [
    "> yt-dlp refers to the library and command-line tool as a whole.\n",
    "> \n",
    "> yt_dlp refers to the specific Python module within that library."
   ]
  },
  {
   "cell_type": "code",
   "execution_count": 50,
   "id": "7aa7b9e1-a3c7-4851-af55-41a5fdf79136",
   "metadata": {},
   "outputs": [
    {
     "name": "stdin",
     "output_type": "stream",
     "text": [
      "Do you want to download this video? (yes/no):  yes\n"
     ]
    },
    {
     "name": "stdout",
     "output_type": "stream",
     "text": [
      "Downloading...\n",
      "[youtube] Extracting URL: https://youtu.be/xuP4g7IDgDM?si=R8dYSiN-y5uNw0ka\n",
      "[youtube] xuP4g7IDgDM: Downloading webpage\n",
      "[youtube] xuP4g7IDgDM: Downloading ios player API JSON\n",
      "[youtube] xuP4g7IDgDM: Downloading web creator player API JSON\n",
      "[youtube] xuP4g7IDgDM: Downloading m3u8 information\n",
      "[info] xuP4g7IDgDM: Downloading 1 format(s): 18\n",
      "[download] Destination: Stunning Sunset Seen From The Sea ｜ Time lapse ｜ 10 Seconds Video ｜ Nature Blogs [xuP4g7IDgDM].mp4\n",
      "[download] 100% of  771.53KiB in 00:00:01 at 700.76KiB/s \n",
      "Downloading completed !\n"
     ]
    }
   ],
   "source": [
    "from yt_dlp import YoutubeDL    # yr_dlp is a module of yt-dlp library\n",
    "\n",
    "download_option = input(\"Do you want to download this video? (yes/no): \").lower()\n",
    "\n",
    "if download_option == \"yes\":\n",
    "    url = link\n",
    "    ydl_opts = {'format':'best'}\n",
    "    with YoutubeDL(ydl_opts) as ydl:\n",
    "        print(\"Downloading...\")\n",
    "        ydl.download([url])\n",
    "        print(\"Downloading completed !\")\n",
    "else:\n",
    "    print(\"Download Aborted :( \")   "
   ]
  },
  {
   "cell_type": "code",
   "execution_count": 54,
   "id": "33b921f7-0125-400d-9b79-7566bd85df2e",
   "metadata": {},
   "outputs": [
    {
     "data": {
      "text/plain": [
       "'C:\\\\Users\\\\TANISHQ\\\\Naresh_IT_Everyday_Personal'"
      ]
     },
     "execution_count": 54,
     "metadata": {},
     "output_type": "execute_result"
    }
   ],
   "source": [
    "import os\n",
    "os.getcwd()\n",
    "#  import os and os.getcwd() is used to obtain and display the current working directory of your Python script"
   ]
  }
 ],
 "metadata": {
  "kernelspec": {
   "display_name": "Python 3 (ipykernel)",
   "language": "python",
   "name": "python3"
  },
  "language_info": {
   "codemirror_mode": {
    "name": "ipython",
    "version": 3
   },
   "file_extension": ".py",
   "mimetype": "text/x-python",
   "name": "python",
   "nbconvert_exporter": "python",
   "pygments_lexer": "ipython3",
   "version": "3.11.7"
  },
  "widgets": {
   "application/vnd.jupyter.widget-state+json": {
    "state": {},
    "version_major": 2,
    "version_minor": 0
   }
  }
 },
 "nbformat": 4,
 "nbformat_minor": 5
}
